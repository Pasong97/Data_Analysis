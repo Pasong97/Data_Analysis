{
 "cells": [
  {
   "cell_type": "markdown",
   "metadata": {},
   "source": [
    "### 이번 실습에서는 다음 내용들을 배웁니다.\n",
    "\n",
    "\n",
    "- 코드를 편리하게 구성하는 방법에 대해 배웁니다.\n",
    "\n",
    "\n",
    "- 파이썬에서 함수를 만들고 사용하는 방법에 대해 배웁니다."
   ]
  },
  {
   "cell_type": "markdown",
   "metadata": {
    "id": "asH4-Ll7yF0P"
   },
   "source": [
    "## Function이란?\n",
    "\n",
    "**수학적인 의미의 함수와 개념은 비슷하지만 역할이 다르다.**\n",
    "\n",
    "\n",
    "- input이 들어와서 output이 정해진 규칙에 따라 나온다는 개념은 같지만, 프로그램에서의 하나의 함수는 **하나의 기능**을 나타낸다.\n",
    "\n",
    "\n",
    "- 정확하게 함수는 특정 기능을 구현한 **코드 묶음**이다.\n",
    "\n",
    "\n",
    "- def 함수이름(param1, param2, ... ):\n",
    "        <statement1>\n",
    "        <statement2>\n",
    "      return\n",
    "\n",
    "\n",
    "- 함수를 쓰는 이유는 **재사용성** 때문이다."
   ]
  },
  {
   "cell_type": "markdown",
   "metadata": {
    "id": "sh1ZNG2GyF0P"
   },
   "source": [
    "> 함수를 사용하는 가장 중요한 이유는 재사용성 때문이다. Reusability라고 하며, ***똑같은 구조의 코드가 반복되는 것을 피하기 위해 사용***된다. 똑같은 구조의 코드는 보통 한 가지의 기능 단위로 묶이게 되며, 이 기능 단위를 코드로 묶어서 함수로 만든다."
   ]
  },
  {
   "cell_type": "markdown",
   "metadata": {
    "id": "8fPSbSXzyF0Q"
   },
   "source": [
    "## Python Function Definition"
   ]
  },
  {
   "cell_type": "code",
   "execution_count": null,
   "metadata": {
    "id": "tB-3gkTGyF0Q"
   },
   "outputs": [],
   "source": [
    "# 입력받은 a, b를 더한 값을 돌려주는 함수.\n"
   ]
  },
  {
   "cell_type": "markdown",
   "metadata": {
    "id": "8yTnxs3ByF0R"
   },
   "source": [
    "#### 기억해야 할 것은, input --- (Function) ----> output 의 구조이며, 이 때 어떤 input parameter가 들어가서, 어떤 output parameter가 나오는지 주목해야한다."
   ]
  },
  {
   "cell_type": "markdown",
   "metadata": {
    "id": "cMW-5h7OyF0R"
   },
   "source": [
    "#### 연습삼아, 사칙연산을 모두 함수로 만들어보자."
   ]
  },
  {
   "cell_type": "code",
   "execution_count": null,
   "metadata": {
    "id": "BGO2MfZbyF0S"
   },
   "outputs": [],
   "source": [
    "def sub(a, b):\n",
    "\n",
    "\n",
    "def mul(a, b):\n",
    "\n",
    "\n",
    "def div(a, b):\n"
   ]
  },
  {
   "cell_type": "markdown",
   "metadata": {
    "id": "e1-9IBVW4k65"
   },
   "source": [
    "### 함수 정의의 다양한 형태를 연습해보자!"
   ]
  },
  {
   "cell_type": "markdown",
   "metadata": {
    "id": "Qz8sWqk94su9"
   },
   "source": [
    "#### 1. 가장 흔하게 사용되는 경우 -> 함수 parameter와 return이 모두 존재하는 경우."
   ]
  },
  {
   "cell_type": "code",
   "execution_count": null,
   "metadata": {
    "id": "lD9J7z5H4g9C"
   },
   "outputs": [],
   "source": [
    "def test(a, b):\n",
    "    return a + b\n",
    "\n",
    "test('a', 'b')"
   ]
  },
  {
   "cell_type": "markdown",
   "metadata": {
    "id": "m9OcUVVw41z_"
   },
   "source": [
    "#### 2. 함수 parameter는 없고 return이 존재하는 경우."
   ]
  },
  {
   "cell_type": "code",
   "execution_count": null,
   "metadata": {
    "id": "iXFA9fXX465J"
   },
   "outputs": [],
   "source": [
    "def test():\n",
    "    return \"Test\"\n",
    "\n",
    "test()"
   ]
  },
  {
   "cell_type": "markdown",
   "metadata": {
    "id": "6qJLyvYx46gF"
   },
   "source": [
    "#### 3. 함수 parameter는 있는데 return이 없는 경우."
   ]
  },
  {
   "cell_type": "code",
   "execution_count": null,
   "metadata": {
    "id": "64MV2yDF4-jA"
   },
   "outputs": [],
   "source": [
    "def test(a, b):\n",
    "    print(f\"a: {a}, b: {b}\")"
   ]
  },
  {
   "cell_type": "markdown",
   "metadata": {
    "id": "aaePVAX_4_Ku"
   },
   "source": [
    "#### 4. 함수 parameter도 없고 return도 없는 경우."
   ]
  },
  {
   "cell_type": "code",
   "execution_count": null,
   "metadata": {
    "id": "vyihU5Zw5CJL"
   },
   "outputs": [],
   "source": [
    "def test():\n",
    "    print(\"Hello World\")\n",
    "    \n",
    "test()"
   ]
  },
  {
   "cell_type": "markdown",
   "metadata": {
    "id": "lqCawSAlyF0S"
   },
   "source": [
    "#### Q. 만약에 함수의 입력 parameter의 개수를 모를땐 어떻게 해야할까?"
   ]
  },
  {
   "cell_type": "code",
   "execution_count": null,
   "metadata": {
    "id": "yFsI7D5fyF0S"
   },
   "outputs": [],
   "source": [
    " # *(asterisk)를 앞에 붙이는 것으로 여러개의 parameter를 받아서 tuple로 변환하여 준다.\n",
    "def add_many(*args): # arguments를 모두 받아서 다 더한 결과를 출력.\n",
    "    return total # 누적합(cumulative sum)\n",
    "        \n",
    "add_many(1, 2, 3)\n",
    "add_many(1, 2, 3, 4, 5)\n",
    "add_many(20, 30, 112, 12, 2, 1, 1, 2, 1, 5)"
   ]
  },
  {
   "cell_type": "markdown",
   "metadata": {
    "id": "h7Z72wjwyF0T"
   },
   "source": [
    "#### Q. 코드를 작성할 때, 언제 이 부분은 함수로 구현해야겠다 라고 판단할 수 있을까?\n",
    "\n",
    "***A. 똑같은 코드가 2번 이상 반복될 때.***"
   ]
  },
  {
   "cell_type": "markdown",
   "metadata": {
    "id": "_IreDkFq8Qmm"
   },
   "source": [
    "### 파라미터에 대해 조금 더 알아봅시다!\n",
    "\n",
    "- 함수에서 사용되는 변수들에게는 효력 범위와 수명이 있습니다.\n",
    "\n",
    "\n",
    "> **function call을 할 때 주의사항!**\n",
    "\n",
    "> 1. mutable data type을 Parameter로 넘겨주는 경우에는 내부 데이터가 바뀔 수 있음을 인지해야한다!\n",
    "\n",
    "> 2. immutable data type은 내부 데이터가 바뀌지 않습니다."
   ]
  },
  {
   "cell_type": "markdown",
   "metadata": {
    "id": "w9x7d_Ka8T13"
   },
   "source": [
    "Q. 만약에 함수의 파라미터 변수 이름과, 함수를 호출하는 argument의 이름이 같은 경우에 어떻게 될까?"
   ]
  },
  {
   "cell_type": "code",
   "execution_count": null,
   "metadata": {},
   "outputs": [],
   "source": [
    "def change_name(name):\n",
    "    name = \"Lee\"\n",
    "    return name\n",
    "\n",
    "\n",
    "name = \"Kim\"\n",
    "name = change_name(name)\n",
    "print(name)"
   ]
  },
  {
   "cell_type": "markdown",
   "metadata": {},
   "source": [
    "### 연습문제. 주어진 리스트의 중앙값을 찾아보자!"
   ]
  },
  {
   "cell_type": "code",
   "execution_count": null,
   "metadata": {},
   "outputs": [],
   "source": [
    "L = [1, 2, 3, 4, 5]\n",
    "L2 = [1, 2, 3, 4, 5, 6]\n",
    "L3 = [1, 2, 3, 4, 5, 6, 7, 8, 10, -11, -63, 17]\n",
    "\n"
   ]
  }
 ],
 "metadata": {
  "colab": {
   "collapsed_sections": [],
   "name": "Chapter.01 파이썬 프로그래밍-10. 함수 (실습).ipynb",
   "provenance": []
  },
  "kernelspec": {
   "display_name": "Python 3 (ipykernel)",
   "language": "python",
   "name": "python3"
  },
  "language_info": {
   "codemirror_mode": {
    "name": "ipython",
    "version": 3
   },
   "file_extension": ".py",
   "mimetype": "text/x-python",
   "name": "python",
   "nbconvert_exporter": "python",
   "pygments_lexer": "ipython3",
   "version": "3.10.5"
  }
 },
 "nbformat": 4,
 "nbformat_minor": 1
}
